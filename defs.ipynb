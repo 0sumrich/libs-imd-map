{
 "metadata": {
  "language_info": {
   "codemirror_mode": {
    "name": "ipython",
    "version": 3
   },
   "file_extension": ".py",
   "mimetype": "text/x-python",
   "name": "python",
   "nbconvert_exporter": "python",
   "pygments_lexer": "ipython3",
   "version": "3.8.8"
  },
  "orig_nbformat": 2,
  "kernelspec": {
   "name": "python388jvsc74a57bd0d9daf55e4e33c4195ff9cbd5ac9a3fe18b967d5593943c7650d7fb73389cf241",
   "display_name": "Python 3.8.8 64-bit ('base': conda)"
  }
 },
 "nbformat": 4,
 "nbformat_minor": 2,
 "cells": [
  {
   "cell_type": "code",
   "execution_count": 28,
   "metadata": {},
   "outputs": [],
   "source": [
    "import pandas as pd\n",
    "from os import path\n",
    "import json"
   ]
  },
  {
   "cell_type": "code",
   "execution_count": 29,
   "metadata": {},
   "outputs": [
    {
     "output_type": "execute_result",
     "data": {
      "text/plain": [
       "                                             Variable  Count of LSOAs  \\\n",
       "0                    Barriers to Housing and Services               5   \n",
       "1   Income Deprivation Affecting Older People (IDA...               2   \n",
       "2                                          Employment               1   \n",
       "3                                              Income               1   \n",
       "4   Income Deprivation Affecting Children Index (I...               1   \n",
       "..                                                ...             ...   \n",
       "0                    Barriers to Housing and Services               5   \n",
       "1                                  Living Environment               2   \n",
       "2                                              Income               1   \n",
       "3   Income Deprivation Affecting Children Index (I...               1   \n",
       "4   Income Deprivation Affecting Older People (IDA...               1   \n",
       "\n",
       "    Min decile                          lib  \n",
       "0            1               Osidge Library  \n",
       "1            2               Osidge Library  \n",
       "2            2               Osidge Library  \n",
       "3            2               Osidge Library  \n",
       "4            2               Osidge Library  \n",
       "..         ...                          ...  \n",
       "0            1  Finchley Church End Library  \n",
       "1            2  Finchley Church End Library  \n",
       "2            2  Finchley Church End Library  \n",
       "3            2  Finchley Church End Library  \n",
       "4            2  Finchley Church End Library  \n",
       "\n",
       "[86 rows x 4 columns]"
      ],
      "text/html": "<div>\n<style scoped>\n    .dataframe tbody tr th:only-of-type {\n        vertical-align: middle;\n    }\n\n    .dataframe tbody tr th {\n        vertical-align: top;\n    }\n\n    .dataframe thead th {\n        text-align: right;\n    }\n</style>\n<table border=\"1\" class=\"dataframe\">\n  <thead>\n    <tr style=\"text-align: right;\">\n      <th></th>\n      <th>Variable</th>\n      <th>Count of LSOAs</th>\n      <th>Min decile</th>\n      <th>lib</th>\n    </tr>\n  </thead>\n  <tbody>\n    <tr>\n      <th>0</th>\n      <td>Barriers to Housing and Services</td>\n      <td>5</td>\n      <td>1</td>\n      <td>Osidge Library</td>\n    </tr>\n    <tr>\n      <th>1</th>\n      <td>Income Deprivation Affecting Older People (IDA...</td>\n      <td>2</td>\n      <td>2</td>\n      <td>Osidge Library</td>\n    </tr>\n    <tr>\n      <th>2</th>\n      <td>Employment</td>\n      <td>1</td>\n      <td>2</td>\n      <td>Osidge Library</td>\n    </tr>\n    <tr>\n      <th>3</th>\n      <td>Income</td>\n      <td>1</td>\n      <td>2</td>\n      <td>Osidge Library</td>\n    </tr>\n    <tr>\n      <th>4</th>\n      <td>Income Deprivation Affecting Children Index (I...</td>\n      <td>1</td>\n      <td>2</td>\n      <td>Osidge Library</td>\n    </tr>\n    <tr>\n      <th>...</th>\n      <td>...</td>\n      <td>...</td>\n      <td>...</td>\n      <td>...</td>\n    </tr>\n    <tr>\n      <th>0</th>\n      <td>Barriers to Housing and Services</td>\n      <td>5</td>\n      <td>1</td>\n      <td>Finchley Church End Library</td>\n    </tr>\n    <tr>\n      <th>1</th>\n      <td>Living Environment</td>\n      <td>2</td>\n      <td>2</td>\n      <td>Finchley Church End Library</td>\n    </tr>\n    <tr>\n      <th>2</th>\n      <td>Income</td>\n      <td>1</td>\n      <td>2</td>\n      <td>Finchley Church End Library</td>\n    </tr>\n    <tr>\n      <th>3</th>\n      <td>Income Deprivation Affecting Children Index (I...</td>\n      <td>1</td>\n      <td>2</td>\n      <td>Finchley Church End Library</td>\n    </tr>\n    <tr>\n      <th>4</th>\n      <td>Income Deprivation Affecting Older People (IDA...</td>\n      <td>1</td>\n      <td>2</td>\n      <td>Finchley Church End Library</td>\n    </tr>\n  </tbody>\n</table>\n<p>86 rows × 4 columns</p>\n</div>"
     },
     "metadata": {},
     "execution_count": 29
    }
   ],
   "source": [
    "tables = json.loads(open(path.join('data','libraries-html-table.json')).read())\n",
    "keys = list(tables.keys())\n",
    "# pd.read_html(tables[key])\n",
    "df = pd.concat([pd.read_html(tables[key])[0].assign(lib=key) for key in keys])\n",
    "df"
   ]
  },
  {
   "cell_type": "code",
   "execution_count": 30,
   "metadata": {},
   "outputs": [],
   "source": [
    "text=\"\"\"The Income Deprivation Domain measures the proportion of the population experiencing deprivation relating to low income. The definition of low income used includes both those people that are out-of-work, and those that are in work but who have low earnings (and who satisfy the respective means tests).\n",
    "\n",
    "The Employment Deprivation Domain measures the proportion of the working-age population in an area involuntarily excluded from the labour market. This includes people who would like to work but are unable to do so due to unemployment, sickness or disability, or caring responsibilities.\n",
    "\n",
    "The Education, Skills and Training Deprivation Domain measures the lack of attainment and skills in the local population. The indicators fall into two sub-domains: one relating to children and young people and one relating to adult skills. \n",
    "\n",
    "The Health Deprivation and Disability Domain measures the risk of premature death and the impairment of quality of life through poor physical or mental health. The domain measures morbidity, disability and premature mortality but not aspects of behaviour or environment that may be predictive of future health deprivation.\n",
    "\n",
    "The Crime Domain measures the risk of personal and material victimisation at local level. \n",
    "\n",
    "The Barriers to Housing and Services Domain measures the physical and financial accessibility of housing and local services. The indicators fall into two sub-domains: ‘geographical barriers’, which relate to the physical proximity of local services, and ‘wider barriers’ which includes issues relating to access to housing such as affordability.\n",
    "\n",
    "The Living Environment Deprivation Domain measures the quality of the local environment. The indicators fall into two sub-domains. The ‘indoors’ living environment measures the quality of housing; while the ‘outdoors’ living environment contains measures of air quality and road traffic accidents.\"\"\""
   ]
  },
  {
   "cell_type": "code",
   "execution_count": 31,
   "metadata": {},
   "outputs": [
    {
     "output_type": "execute_result",
     "data": {
      "text/plain": [
       "{'Income': 'The Income Deprivation Domain measures the proportion of the population experiencing deprivation relating to low income. The definition of low income used includes both those people that are out-of-work, and those that are in work but who have low earnings (and who satisfy the respective means tests).',\n",
       " 'Employment': 'The Employment Deprivation Domain measures the proportion of the working-age population in an area involuntarily excluded from the labour market. This includes people who would like to work but are unable to do so due to unemployment, sickness or disability, or caring responsibilities.',\n",
       " 'Education, Skills and Training': 'The Education, Skills and Training Deprivation Domain measures the lack of attainment and skills in the local population. The indicators fall into two sub-domains: one relating to children and young people and one relating to adult skills. ',\n",
       " 'Health and Disability': 'The Health Deprivation and Disability Domain measures the risk of premature death and the impairment of quality of life through poor physical or mental health. The domain measures morbidity, disability and premature mortality but not aspects of behaviour or environment that may be predictive of future health deprivation.',\n",
       " 'Crime': 'The Crime Domain measures the risk of personal and material victimisation at local level. ',\n",
       " 'Barriers to Housing and Services': 'The Barriers to Housing and Services Domain measures the physical and financial accessibility of housing and local services. The indicators fall into two sub-domains: ‘geographical barriers’, which relate to the physical proximity of local services, and ‘wider barriers’ which includes issues relating to access to housing such as affordability.',\n",
       " 'Living Environment': 'The Living Environment Deprivation Domain measures the quality of the local environment. The indicators fall into two sub-domains. The ‘indoors’ living environment measures the quality of housing; while the ‘outdoors’ living environment contains measures of air quality and road traffic accidents.'}"
      ]
     },
     "metadata": {},
     "execution_count": 31
    }
   ],
   "source": [
    "text_list=text.split('\\n\\n')\n",
    "res = {t[len('The '):t.index(' Domain')].replace(' Deprivation',''):t for t in text_list}\n",
    "res"
   ]
  },
  {
   "cell_type": "code",
   "execution_count": 32,
   "metadata": {},
   "outputs": [
    {
     "output_type": "execute_result",
     "data": {
      "text/plain": [
       "array(['Barriers to Housing and Services',\n",
       "       'Income Deprivation Affecting Older People (IDAOPI)', 'Employment',\n",
       "       'Income', 'Income Deprivation Affecting Children Index (IDACI)',\n",
       "       'Index of Multiple Deprivation (IMD)', 'Living Environment',\n",
       "       'Crime', 'Education, Skills and Training'], dtype=object)"
      ]
     },
     "metadata": {},
     "execution_count": 32
    }
   ],
   "source": [
    "df.Variable.unique()"
   ]
  },
  {
   "cell_type": "code",
   "execution_count": 33,
   "metadata": {},
   "outputs": [],
   "source": [
    "res['Income Deprivation Affecting Children Index (IDACI)'] = 'The Income Deprivation Affecting Children Index (IDACI) measures the proportion of all children aged 0 to 15 living in income deprived families. It is a subset of the Income Deprivation Domain which measures the proportion of the population in an area experiencing deprivation relating to low income. The definition of low income used includes both those people that are out-of-work, and those that are in work but who have low earnings (and who satisfy the respective means tests).'\n",
    "res['Income Deprivation Affecting Older People (IDAOPI)'] = 'The Income Deprivation Affecting Older People Index (IDAOPI) measures the proportion of all those aged 60 or over who experience income deprivation. It is a subset of the Income Deprivation Domain which measures the proportion of the population in an area experiencing deprivation relating to low income. The definition of low income used includes both those people that are out-of-work, and those that are in work but who have low earnings (and who satisfy the respective means tests).'\n",
    "res['Index of Multiple Deprivation (IMD)']= 'The Index of Multiple Deprivation (IMD) is an overall relative measure of deprivation constructed by combining seven domains of deprivation according to their respective weights'"
   ]
  },
  {
   "cell_type": "code",
   "execution_count": 34,
   "metadata": {},
   "outputs": [
    {
     "output_type": "execute_result",
     "data": {
      "text/plain": [
       "[]"
      ]
     },
     "metadata": {},
     "execution_count": 34
    }
   ],
   "source": [
    "[x for x in df.Variable.unique() if x not in res.keys()]"
   ]
  },
  {
   "cell_type": "code",
   "execution_count": 35,
   "metadata": {},
   "outputs": [],
   "source": [
    "from bs4 import BeautifulSoup"
   ]
  },
  {
   "cell_type": "code",
   "execution_count": 36,
   "metadata": {},
   "outputs": [],
   "source": [
    "def fix_html(lib):\n",
    "    _vars = df.Variable.unique()\n",
    "    cdf = df[df.lib==lib]\n",
    "    html = cdf.drop('lib', axis=1).to_html(index=False)\n",
    "    soup = BeautifulSoup(html, 'html.parser')\n",
    "    tds = soup.find_all('td')\n",
    "    for td in tds:\n",
    "        txt = td.contents[0]\n",
    "        if txt in list(_vars):\n",
    "            tag = soup.new_tag('a')\n",
    "            tag.string=txt\n",
    "            tag['class'] = 'tooltipped hover'\n",
    "            tag['data-position']=\"top\"\n",
    "            tag['data-tooltip']=res[txt]\n",
    "            td.string.replace_with(tag)\n",
    "\n",
    "    return soup.prettify()\n",
    "\n",
    "# fix_html('Osidge Library')\n",
    "output={lib:fix_html(lib) for lib in df.lib.unique()}"
   ]
  },
  {
   "cell_type": "code",
   "execution_count": 40,
   "metadata": {},
   "outputs": [],
   "source": [
    "with open(path.join('data','libraries-html-table.json'),'w') as f:\n",
    "    f.write(json.dumps(output).replace('dataframe','striped'))"
   ]
  }
 ]
}